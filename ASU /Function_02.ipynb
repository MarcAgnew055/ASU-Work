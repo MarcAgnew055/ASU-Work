{
 "cells": [
  {
   "cell_type": "code",
   "execution_count": 1,
   "id": "ec9c3aac-d7cc-417f-8c14-ddd37775dfcb",
   "metadata": {},
   "outputs": [
    {
     "name": "stdout",
     "output_type": "stream",
     "text": [
      "hello arglebargle\n"
     ]
    }
   ],
   "source": [
    "def warble(string_param):\n",
    "    return(f\"{string_param} arglebargle\")\n",
    "print(warble(\"hello\"))"
   ]
  },
  {
   "cell_type": "code",
   "execution_count": 4,
   "id": "878642bd-1762-47df-aa32-32824804b514",
   "metadata": {},
   "outputs": [
    {
     "name": "stdout",
     "output_type": "stream",
     "text": [
      "4\n"
     ]
    }
   ],
   "source": [
    "def print_sum(num1, num2):\n",
    "    sum = num1 + num2\n",
    "    print(sum)\n",
    "print_sum(1, 3)"
   ]
  },
  {
   "cell_type": "code",
   "execution_count": null,
   "id": "4f64e40e-d491-4904-ae0a-231c08adf3c8",
   "metadata": {},
   "outputs": [],
   "source": []
  },
  {
   "cell_type": "code",
   "execution_count": null,
   "id": "d9df64ae-cb53-40a3-b619-e9e7728f79ea",
   "metadata": {},
   "outputs": [],
   "source": []
  }
 ],
 "metadata": {
  "kernelspec": {
   "display_name": "Python 3 (ipykernel)",
   "language": "python",
   "name": "python3"
  },
  "language_info": {
   "codemirror_mode": {
    "name": "ipython",
    "version": 3
   },
   "file_extension": ".py",
   "mimetype": "text/x-python",
   "name": "python",
   "nbconvert_exporter": "python",
   "pygments_lexer": "ipython3",
   "version": "3.9.7"
  }
 },
 "nbformat": 4,
 "nbformat_minor": 5
}
