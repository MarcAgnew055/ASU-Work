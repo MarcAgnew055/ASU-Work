{
 "cells": [
  {
   "cell_type": "code",
   "execution_count": 12,
   "id": "c28067a3-9555-4e5b-966d-12de20718b6b",
   "metadata": {},
   "outputs": [
    {
     "name": "stdout",
     "output_type": "stream",
     "text": [
      "2\n",
      "[4, 5, 6, 7]\n",
      "9\n",
      "15\n"
     ]
    }
   ],
   "source": [
    "list_1 = [0, 1, 2, 3]\n",
    "list_2 = [4, 5, 6, 7,]\n",
    "list_3 = [8, 9, 10, 11,]\n",
    "list_4 = [12, 13, 14, 15]\n",
    "print(list_1[2])\n",
    "print(list_2)\n",
    "print(list_3[1])\n",
    "print(list_4[3])\n",
    "#Done"
   ]
  },
  {
   "cell_type": "code",
   "execution_count": null,
   "id": "87934c0d-8707-471f-9155-def22588ab02",
   "metadata": {},
   "outputs": [],
   "source": []
  }
 ],
 "metadata": {
  "kernelspec": {
   "display_name": "Python 3 (ipykernel)",
   "language": "python",
   "name": "python3"
  },
  "language_info": {
   "codemirror_mode": {
    "name": "ipython",
    "version": 3
   },
   "file_extension": ".py",
   "mimetype": "text/x-python",
   "name": "python",
   "nbconvert_exporter": "python",
   "pygments_lexer": "ipython3",
   "version": "3.9.7"
  }
 },
 "nbformat": 4,
 "nbformat_minor": 5
}
