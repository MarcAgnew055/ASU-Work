{
 "cells": [
  {
   "cell_type": "code",
   "execution_count": 27,
   "id": "592de2da-77fa-4fa4-8d10-2a1503a91135",
   "metadata": {},
   "outputs": [
    {
     "name": "stdout",
     "output_type": "stream",
     "text": [
      "[1, 'hello', False, 84, 'world', 'hello']\n",
      "4\n",
      "7\n",
      "[65, 94, 299, 51]\n",
      "6\n",
      "680\n"
     ]
    },
    {
     "ename": "TypeError",
     "evalue": "'>' not supported between instances of 'list' and 'int'",
     "output_type": "error",
     "traceback": [
      "\u001b[0;31m---------------------------------------------------------------------------\u001b[0m",
      "\u001b[0;31mTypeError\u001b[0m                                 Traceback (most recent call last)",
      "\u001b[0;32m/var/folders/jk/xsphk5ys6z9_3mpy5dqxn43r0000gn/T/ipykernel_16489/3352880944.py\u001b[0m in \u001b[0;36m<module>\u001b[0;34m\u001b[0m\n\u001b[1;32m     27\u001b[0m \u001b[0;31m# Iterate through the provided `num_list` and create an if-else statement to print the sum of all the numbers greater than 50.\u001b[0m\u001b[0;34m\u001b[0m\u001b[0;34m\u001b[0m\u001b[0m\n\u001b[1;32m     28\u001b[0m \u001b[0msum\u001b[0m \u001b[0;34m=\u001b[0m \u001b[0;36m0\u001b[0m\u001b[0;34m\u001b[0m\u001b[0;34m\u001b[0m\u001b[0m\n\u001b[0;32m---> 29\u001b[0;31m \u001b[0;32mfor\u001b[0m \u001b[0mx\u001b[0m \u001b[0;32min\u001b[0m \u001b[0mlist\u001b[0m\u001b[0;34m(\u001b[0m\u001b[0mnum_list\u001b[0m\u001b[0;34m)\u001b[0m \u001b[0;34m>\u001b[0m \u001b[0;34m(\u001b[0m\u001b[0;36m49\u001b[0m\u001b[0;34m)\u001b[0m\u001b[0;34m:\u001b[0m\u001b[0;34m\u001b[0m\u001b[0;34m\u001b[0m\u001b[0m\n\u001b[0m\u001b[1;32m     30\u001b[0m         \u001b[0msum\u001b[0m \u001b[0;34m+=\u001b[0m \u001b[0mx\u001b[0m\u001b[0;34m\u001b[0m\u001b[0;34m\u001b[0m\u001b[0m\n\u001b[1;32m     31\u001b[0m \u001b[0mprint\u001b[0m\u001b[0;34m(\u001b[0m\u001b[0msum\u001b[0m\u001b[0;34m)\u001b[0m\u001b[0;34m\u001b[0m\u001b[0;34m\u001b[0m\u001b[0m\n",
      "\u001b[0;31mTypeError\u001b[0m: '>' not supported between instances of 'list' and 'int'"
     ]
    }
   ],
   "source": [
    "our_list = []\n",
    "our_list.append(1)\n",
    "# Append the string \"hello\" into `our_list`.\n",
    "our_list.append(\"hello\")\n",
    "our_list.append(False)\n",
    "our_list.append(84)\n",
    "our_list.append(\"world\")\n",
    "our_list.append(\"hello\")\n",
    "print(our_list)\n",
    "\n",
    "one_to_ten = [1, 2, 3, 4, 5, 6, 7, 8, 9, 10]\n",
    "print(one_to_ten[3])\n",
    "print(one_to_ten[6])\n",
    "\n",
    "num_list = [2, 65, 3, 7, 39, 22, 11, 94, 299, 9, 20, 21, 51, 37]\n",
    "total = 0\n",
    "# Iterate through the provided `num_list` and create an if-else statement to print every number greater than 50\n",
    "\n",
    "print([x for x in num_list if x>49])\n",
    "# Iterate through the provided `num_list` and use the `index` function to print the index of the first occurrence of the number 11.\n",
    "print(num_list.index(11))\n",
    "\n",
    "# Iterate through the provided `num_list` and print the sum of all the numbers.\n",
    "for x in range(len(num_list)):\n",
    "    total += num_list[x]\n",
    "print(total)\n",
    "# Iterate through the provided `num_list` and create an if-else statement to print the sum of all the numbers greater than 50.\n",
    "sum = 0 \n",
    "for x in list(num_list) > (49): \n",
    "\tsum += x \n",
    "print(sum)\n",
    "# Iterate through the provided `num_list` and create an if-else statement to print the sum of all the even numbers.\n",
    "\n",
    "\n",
    "fruits = [\n",
    "  \"Apple\", \"Orange\", \"Banana\", \"Pomelo\", \"Apple\", \"Kiwi\", \"Peach\", \"Banana\", \"Grape\", \"Tomato\",\n",
    "  \"Kiwi\", \"Apple\", \"Watermelon\", \"Lemon\", \"Pomelo\", \"Apple\", \"Banana\", \"Peach\", \"Apricot\", \"Grape\"]\n",
    "\n",
    "# Iterate through the provided `fruits` list and print the number of times \"Apple\" appears in the list.\n",
    "\n",
    "\n",
    "# Iterate through the provided `fruits` list and print the number of times \"Peach\" appears in the list.\n",
    "\n",
    "\n",
    "# Iterate through the provided `fruits` list and print the number of fruits that start with \"P\" in the list.\n",
    "\n",
    "\n",
    "## Challenge\n",
    "\n",
    "# Create a new empty list named `unique_fruits`.\n",
    "\n",
    "\n",
    "# Iterate through `fruits` and populate `unique_fruits` with only unique values from `fruits`. Hint: try looking up \"not in\" conditionals for if statements\n",
    "\n",
    "\n",
    "# Print out the `unique_fruits` list.\n",
    "\n",
    "\n",
    "# In this challenge we're going to be working with nested lists.\n",
    "# You can store any type of data within an list- even other lists!\n",
    "two_dim_list = [\n",
    "  [54, 6, 7, 46, 78],\n",
    "  [43, 9, 6, 65, 65],\n",
    "  [32, 1, 44, 1, 23],\n",
    "  [55, 12, 2, 34, 2],\n",
    "  [2, 12, 44, 2, 12]]\n",
    "\n",
    "# Iterate through the first list inside `two_dim_list` and print all the numbers less than 25.\n",
    "\n",
    "\n",
    "# Iterate through the second list inside `two_dim_list` and print all the numbers less than 25.\n",
    "\n",
    "\n",
    "# Iterate through the fifth list inside `two_dim_list` and print all the numbers less than 25.\n",
    "\n",
    "\n",
    "\n",
    "# Iterate through `two_dim_list` and the lists inside of it and print all the odd numbers.\n",
    "\n",
    "\n",
    "# Iterate through `two_dim_list` and the lists inside of it and print the sum of all the numbers that are a multiple of 3.\n",
    "\n"
   ]
  },
  {
   "cell_type": "code",
   "execution_count": null,
   "id": "1c718307-e1dd-4c58-a0e4-8bc3cf4863a9",
   "metadata": {},
   "outputs": [],
   "source": []
  }
 ],
 "metadata": {
  "kernelspec": {
   "display_name": "Python 3 (ipykernel)",
   "language": "python",
   "name": "python3"
  },
  "language_info": {
   "codemirror_mode": {
    "name": "ipython",
    "version": 3
   },
   "file_extension": ".py",
   "mimetype": "text/x-python",
   "name": "python",
   "nbconvert_exporter": "python",
   "pygments_lexer": "ipython3",
   "version": "3.9.7"
  }
 },
 "nbformat": 4,
 "nbformat_minor": 5
}
