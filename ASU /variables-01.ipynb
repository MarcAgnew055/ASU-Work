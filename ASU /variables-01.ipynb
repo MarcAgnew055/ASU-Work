{
 "cells": [
  {
   "cell_type": "code",
   "execution_count": 13,
   "id": "3fba5aa1-58f4-41c6-a177-3f3c3917433c",
   "metadata": {},
   "outputs": [
    {
     "name": "stdout",
     "output_type": "stream",
     "text": [
      "Programmers: Ada Lovelace is a British Computer Programmer born in 1815.\n",
      "She is commonly refferred to as the First Computer Programmer.\n",
      "In 1852 she published the first Algorithm, the Analytical Engine, at the age of 37\n",
      "She was a British Citizen who lived in London, England until her paiing in 1852 at the age of 37\n"
     ]
    }
   ],
   "source": [
    "subject = (5)\n",
    "first_name = \"Ada\"\n",
    "last_name = \"Lovelace\"\n",
    "full_name = first_name + last_name\n",
    "profession = \"Computer Programmer\"\n",
    "known_for = \"First Computer Programmer\"\n",
    "first_algorithm = \"Analytical Engine\"\n",
    "city_location = \"London\"\n",
    "country_location = \"England\"\n",
    "nationality = \"British\"\n",
    "birth_year = 1815\n",
    "death_year = 1852\n",
    "age_at_passing = death_year - birth_year\n",
    "year_of_publish = 1842\n",
    "#print(\"First Name: \")\n",
    "#print(\"Last Name: \")\n",
    "#print(\"Profession: \")\n",
    "#print(\"BirthYear: \")\n",
    "\n",
    "\n",
    "\n",
    "statement_one = (f\"Programmers: {first_name} {last_name} is a {nationality} {profession} born in {birth_year}.\")\n",
    "print(statement_one)\n",
    "statement_two = (f\"She is commonly refferred to as the {known_for}.\")\n",
    "print(statement_two)\n",
    "statement_three = (f\"In {death_year} she published the first Algorithm, the {first_algorithm}, at the age of {age_at_passing}\")\n",
    "print(statement_three)\n",
    "statement_four = (f\"She was a {nationality} Citizen who lived in {city_location}, {country_location} until her paiing in {death_year} at the age of {age_at_passing}\") \n",
    "print(statement_four)\n",
    "#Done"
   ]
  },
  {
   "cell_type": "code",
   "execution_count": null,
   "id": "1e399e98-1a5d-4c32-9b62-45d38f3762fc",
   "metadata": {},
   "outputs": [],
   "source": []
  }
 ],
 "metadata": {
  "kernelspec": {
   "display_name": "Python 3 (ipykernel)",
   "language": "python",
   "name": "python3"
  },
  "language_info": {
   "codemirror_mode": {
    "name": "ipython",
    "version": 3
   },
   "file_extension": ".py",
   "mimetype": "text/x-python",
   "name": "python",
   "nbconvert_exporter": "python",
   "pygments_lexer": "ipython3",
   "version": "3.9.7"
  }
 },
 "nbformat": 4,
 "nbformat_minor": 5
}
