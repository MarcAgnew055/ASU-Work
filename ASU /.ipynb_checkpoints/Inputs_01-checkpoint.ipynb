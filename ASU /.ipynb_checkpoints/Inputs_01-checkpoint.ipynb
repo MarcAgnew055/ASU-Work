{
 "cells": [
  {
   "cell_type": "code",
   "execution_count": null,
   "id": "90a922eb-b6b6-477f-a8b0-aae49984f490",
   "metadata": {},
   "outputs": [],
   "source": [
    "welcome_name = \"Welcome to the sandwich shop, what do I call you?\"\n",
    "print(f\"Hello {welcome_name}\")\n",
    "question_sandwich = input(\"Are you here for a sandwich? (Y/N) \")\n",
    "if question_sandwich == \"Y\" or \"y\":\n",
    "    food_prompt = input(\"What kind of sandwich would you like?\")\n",
    "    print(f\"Please wait 10 min for your {food_prompt}\")\n",
    "elif question_sandwich == \"N\" or \"n\":\n",
    "    print(\"If you don't want a sandwich what are you here for?!\")\n",
    "else:\n",
    "    print(\"You did not write Y or N!\")\n",
    "\n",
    "\n"
   ]
  }
 ],
 "metadata": {
  "kernelspec": {
   "display_name": "Python 3 (ipykernel)",
   "language": "python",
   "name": "python3"
  },
  "language_info": {
   "codemirror_mode": {
    "name": "ipython",
    "version": 3
   },
   "file_extension": ".py",
   "mimetype": "text/x-python",
   "name": "python",
   "nbconvert_exporter": "python",
   "pygments_lexer": "ipython3",
   "version": "3.9.7"
  }
 },
 "nbformat": 4,
 "nbformat_minor": 5
}
