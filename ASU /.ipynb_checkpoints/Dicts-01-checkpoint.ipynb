{
 "cells": [
  {
   "cell_type": "code",
   "execution_count": 1,
   "id": "b707c22d-f5f7-434e-8189-f317fa508fed",
   "metadata": {},
   "outputs": [
    {
     "name": "stdout",
     "output_type": "stream",
     "text": [
      "{'west_coast': True, 'has_multiple_bridges': True, 'known_for_pizza': False, 'coastal': True, 'snows': False, 'very_hot': False, 'mayor': 'London Breed', 'state': 'California', 'country': 'USA', 'best_food': 'burritos', 'sports_teams': ['Giants', 'Warriors', 'Forty-Niners'], 'tallest_building': 'SalesForce Building', 'population': 884363, 'city_size': 'large', 'median_house_price': 1610000, 'famous_residents': ['Maya Angelou', 'Robert Frost', 'Carlos Santana'], 'homeless_pop': 1150, 'political_leaning': 'Democrat', 'notable_attractions': ['Alcatraz', 'Golden Gate Bridge', \"Fisherman's Wharf\"], 'natural_disasters': ['Earthquakes']}\n"
     ]
    }
   ],
   "source": [
    "\n",
    "san_francisco = {\n",
    "     \"west_coast\": True,\n",
    "     \"has_multiple_bridges\": True,\n",
    "     \"known_for_pizza\": False,\n",
    "     \"coastal\": True,\n",
    "     \"snows\": False,\n",
    "     \"very_hot\": False,\n",
    "     \"mayor\": \"London Breed\",\n",
    "     \"state\": \"California\",\n",
    "     \"country\": \"USA\",\n",
    "     \"best_food\": \"burritos\",\n",
    "     \"sports_teams\": [\"Giants\", \"Warriors\", \"Forty-Niners\"],\n",
    "     \"tallest_building\": \"SalesForce Building\",\n",
    "     \"population\": 884363,\n",
    "     \"city_size\": \"large\",\n",
    "     \"median_house_price\": 1610000,\n",
    "     \"famous_residents\": [\"Maya Angelou\", \"Robert Frost\", \"Carlos Santana\"],\n",
    "     \"homeless_pop\": 1150,\n",
    "     \"political_leaning\": \"Democrat\",\n",
    "     \"notable_attractions\": [\"Alcatraz\", \"Golden Gate Bridge\", \"Fisherman's Wharf\"],\n",
    "     \"natural_disasters\": [\"Earthquakes\"], }\n",
    "\n",
    "# Re-create the content of the commented out `san_francisco` dictionary by using bracket notation to manually add each of the key-value pairs (including nested objects).\n",
    "print(san_francisco)\n",
    "#Done\n"
   ]
  },
  {
   "cell_type": "code",
   "execution_count": null,
   "id": "85b5087b-62b5-4c46-bbef-e38b7f7e1d0e",
   "metadata": {},
   "outputs": [],
   "source": []
  }
 ],
 "metadata": {
  "kernelspec": {
   "display_name": "Python 3 (ipykernel)",
   "language": "python",
   "name": "python3"
  },
  "language_info": {
   "codemirror_mode": {
    "name": "ipython",
    "version": 3
   },
   "file_extension": ".py",
   "mimetype": "text/x-python",
   "name": "python",
   "nbconvert_exporter": "python",
   "pygments_lexer": "ipython3",
   "version": "3.9.7"
  }
 },
 "nbformat": 4,
 "nbformat_minor": 5
}
