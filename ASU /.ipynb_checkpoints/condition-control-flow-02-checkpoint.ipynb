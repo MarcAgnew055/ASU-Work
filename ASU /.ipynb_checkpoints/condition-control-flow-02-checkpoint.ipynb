{
 "cells": [
  {
   "cell_type": "code",
   "execution_count": 90,
   "id": "b65bae78-6a6d-415a-8bed-225387b0f90e",
   "metadata": {},
   "outputs": [
    {
     "name": "stdout",
     "output_type": "stream",
     "text": [
      "HelloMr. Farley\n",
      "Mr. Snuggles is older than Mr. Farley\n",
      "Mr. Farley doesn't hail from a sports town.\n",
      "Mr. Farley comes from the home of the 49ers!\n",
      "Mr. Farley pays less rent than Mr. Snuggles\n",
      "Mr. Farley has more expenses than Mr. Snuggles\n",
      "They are professionals.\n"
     ]
    }
   ],
   "source": [
    "c1_name = \"Mr. Farley\"\n",
    "c1_age = 65\n",
    "c1_profession = \"Web Developer\"\n",
    "c1_salary = 100000\n",
    "c1_species = \"cat\"\n",
    "c1_location = \"San Francisco, CA\"\n",
    "c1_monthly_rent = 2000\n",
    "c1_monthly_expenses = 1500\n",
    "c1_yearly_rent = (c1_monthly_rent) * 12\n",
    "c1_yearly_expenses = 1500.00 * 12\n",
    "c1_savings = (c1_salary) - (c1_yearly_rent) + (c1_yearly_expenses)\n",
    "c2_name = \"Mr. Snuggles\"\n",
    "c2_age = 30\n",
    "c2_species = \"mouse\"\n",
    "c2_profession = \"Accountant\"\n",
    "c2_salary = 70000\n",
    "c2_location = \"Oakland, CA\"\n",
    "c2_monthly_rent = 4000\n",
    "c2_monthly_expenses = 500\n",
    "c2_yearly_rent = (c2_monthly_rent) * 12\n",
    "c2_yearly_expenses = (c2_monthly_expenses) * 12\n",
    "c2_savings = (c2_salary) - (c2_yearly_rent) + (c2_yearly_expenses)\n",
    "if c1_name == \"Mr. Farley\":\n",
    "    print(f\"Hello{c1_name}\")\n",
    "else:\n",
    "    print(\"Hello Stranger\")\n",
    "if c2_age > c1_age:\n",
    "    print(\"Mr. Farley is older than Mr. Snuggles\")\n",
    "elif c1_age == c2_age:\n",
    "    print(\"Mr. Farley is the same age as Mr. Snuggles\")\n",
    "else:\n",
    "    c1_age > c2_age\n",
    "    print(\"Mr. Snuggles is older than Mr. Farley\")\n",
    "if c1_location == (\"Oakland, CA\"):\n",
    "    print(\"Mr. Farley comes from the home of the Raiders!\")\n",
    "elif c1_location:\n",
    "    print(\"Mr. Farley doesn't hail from a sports town.\")\n",
    "else:\n",
    "    c1_location = (\"San Francisco, CA\")\n",
    "print(\"Mr. Farley comes from the home of the 49ers!\")\n",
    "if c1_monthly_rent > c2_monthly_rent:\n",
    "    print(\"Mr. Farley pays more rent than Mr. Snuggles\")\n",
    "elif c1_monthly_rent < c2_monthly_rent:\n",
    "    print(\"Mr. Farley pays less rent than Mr. Snuggles\")\n",
    "else: \n",
    "    c1_monthly_rent == c2_monthly_rent\n",
    "    print(\"Mr. Farley pays the same rent as Mr. Snuggles\")\n",
    "if c1_monthly_expenses > c2_monthly_expenses:\n",
    "    print(\"Mr. Farley has more expenses than Mr. Snuggles\")\n",
    "elif c1_monthly_expenses < c2_monthly_expenses:\n",
    "    print(\"Mr. Farley pays less expenses than Mr. Snuggles\")\n",
    "else:\n",
    "    c1_monthly_expenses == c2_monthly_expenses\n",
    "    print(\"Mr. Farley pays the same expenses at Mr. Snuggles\")\n",
    "if c1_profession == \"Web Developer\" and \"c2_profession\" == \"Accountant\":\n",
    "    print(\"Look a Web Developer and an Accountant\")\n",
    "else:\n",
    "    print(\"They are professionals.\")\n",
    "#Done"
   ]
  },
  {
   "cell_type": "code",
   "execution_count": null,
   "id": "258375c4-0f96-46c5-a27d-d280537c237b",
   "metadata": {},
   "outputs": [],
   "source": []
  }
 ],
 "metadata": {
  "kernelspec": {
   "display_name": "Python 3 (ipykernel)",
   "language": "python",
   "name": "python3"
  },
  "language_info": {
   "codemirror_mode": {
    "name": "ipython",
    "version": 3
   },
   "file_extension": ".py",
   "mimetype": "text/x-python",
   "name": "python",
   "nbconvert_exporter": "python",
   "pygments_lexer": "ipython3",
   "version": "3.9.7"
  }
 },
 "nbformat": 4,
 "nbformat_minor": 5
}
