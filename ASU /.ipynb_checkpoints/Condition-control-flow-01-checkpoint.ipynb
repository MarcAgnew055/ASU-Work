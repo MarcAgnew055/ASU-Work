{
 "cells": [
  {
   "cell_type": "code",
   "execution_count": 1,
   "id": "d37bf9a1-329f-4ae3-9cf8-ce1d1c74126f",
   "metadata": {},
   "outputs": [
    {
     "name": "stdout",
     "output_type": "stream",
     "text": [
      "This animal is neither Godzilla nor Mothra!\n",
      "See Spot run!\n",
      "I drive Farley around San Francisco in my Prius!\n",
      "You're total cost is 4250\n",
      "Ahhh just right!\n"
     ]
    }
   ],
   "source": [
    "farm = [\"pig\", \"cow\", \"chicken\", \"dog\", \"horse\", \"sheep\"]\n",
    "dog = \"Spot\"\n",
    "cat = \"Farley\"\n",
    "city = \"San Francisco\"\n",
    "car = \"Prius\"\n",
    "\n",
    "if [0] in farm != \"Godzilla\":\n",
    "    print(\"RWAR\")\n",
    "elif [5] in farm == \"Mothra\":\n",
    "    print(\"SCREECH!\")\n",
    "else:\n",
    "    print(\"This animal is neither Godzilla nor Mothra!\")\n",
    "\n",
    "print(f\"See {dog} run!\")\n",
    "print(f\"I drive {cat} around {city} in my Prius!\")\n",
    "\n",
    "budget = 5000\n",
    "rent_cost= 1500\n",
    "utilities_cost = 150\n",
    "food_cost = 250\n",
    "transportation_cost = 350\n",
    "computer_cost = 2000\n",
    "total_cost = (rent_cost + utilities_cost + food_cost + transportation_cost + computer_cost)\n",
    "\n",
    "\n",
    "if total_cost <= budget:\n",
    "    print(f\"You're total cost is {total_cost}\")\n",
    "else:\n",
    "    print(\"Ahhh just right!\")\n",
    "\n",
    "\n",
    "if (utilities_cost + food_cost + transportation_cost) >= rent_cost:\n",
    "    print(\"The rent is too damn high!\")\n",
    "else:\n",
    "    print(\"Ahhh just right!\")\n",
    "\n",
    "#Done\n"
   ]
  }
 ],
 "metadata": {
  "kernelspec": {
   "display_name": "Python 3 (ipykernel)",
   "language": "python",
   "name": "python3"
  },
  "language_info": {
   "codemirror_mode": {
    "name": "ipython",
    "version": 3
   },
   "file_extension": ".py",
   "mimetype": "text/x-python",
   "name": "python",
   "nbconvert_exporter": "python",
   "pygments_lexer": "ipython3",
   "version": "3.9.7"
  }
 },
 "nbformat": 4,
 "nbformat_minor": 5
}
