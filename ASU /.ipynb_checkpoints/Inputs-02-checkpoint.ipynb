{
 "cells": [
  {
   "cell_type": "code",
   "execution_count": null,
   "id": "14f3af6d-226b-4f31-8ff4-c524f20517d8",
   "metadata": {},
   "outputs": [
    {
     "name": "stdin",
     "output_type": "stream",
     "text": [
      "Welcome to the Boba Shop! What is your name? \n"
     ]
    },
    {
     "name": "stdout",
     "output_type": "stream",
     "text": [
      "You didn't give us your name! Goodbye\n"
     ]
    }
   ],
   "source": [
    "name = input(f\"Welcome to the Boba Shop! What is your name?\")\n",
    "if name != str(\"\"):\n",
    "    print(f\"Hello {name}.\")\n",
    "elif name == str(\"\"):\n",
    "     print(\"You didn't give us your name! Goodbye\")\n",
    "\n",
    "beverage = input(f\"What kind of boba drink would you like?\")   \n",
    "sweetness = input(f\"How sweet do you want your drink: 0, 50, 100, or 200?\")\n",
    "if (sweetness) == (\"50\"):\n",
    "    print(\"half sweetened\")\n",
    "elif sweetness == (\"100\"):\n",
    "    print(\"normal sweet\")\n",
    "elif sweetness == (\"200\"):\n",
    "    print(\"super sweet\")\n",
    "else:\n",
    "    print(\"non-sweet\")\n",
    "\n",
    "    \n",
    "print(f\"Your order is {beverage} boba with a sweet level of {sweetness}\")\n",
    "#Done"
   ]
  },
  {
   "cell_type": "code",
   "execution_count": null,
   "id": "001e29d6-9737-463b-887a-3c09132baef3",
   "metadata": {},
   "outputs": [],
   "source": []
  }
 ],
 "metadata": {
  "kernelspec": {
   "display_name": "Python 3 (ipykernel)",
   "language": "python",
   "name": "python3"
  },
  "language_info": {
   "codemirror_mode": {
    "name": "ipython",
    "version": 3
   },
   "file_extension": ".py",
   "mimetype": "text/x-python",
   "name": "python",
   "nbconvert_exporter": "python",
   "pygments_lexer": "ipython3",
   "version": "3.9.7"
  }
 },
 "nbformat": 4,
 "nbformat_minor": 5
}
